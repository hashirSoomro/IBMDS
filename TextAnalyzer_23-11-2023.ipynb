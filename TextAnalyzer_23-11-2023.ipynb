{
 "cells": [
  {
   "cell_type": "markdown",
   "id": "f8659259",
   "metadata": {},
   "source": [
    "# TEXT ANALYZER\n",
    "In this notebook, I have created a text analyzer. According to IBM, The term __Text Analysis__ refers to the process of extracting meaningful information and insights from textual data."
   ]
  },
  {
   "cell_type": "code",
   "execution_count": 115,
   "id": "d070f774",
   "metadata": {},
   "outputs": [],
   "source": [
    "class TextAnalyzer(object):\n",
    "    def __init__ (self, text):\n",
    "        # remove punctuation\n",
    "        formattedText = text.replace('.','').replace(',','').replace('?','').replace('!','').replace('-','').replace(':','').replace(';','').replace('\"','').replace(\"'\",'').replace('(','').replace(')','')\n",
    "        \n",
    "        # make text lowercase\n",
    "        formattedText = formattedText.lower()\n",
    "        \n",
    "        self.formatText = formattedText\n",
    "    \n",
    "    # displays the freq of all text words of the string\n",
    "    def freqAll(self):        \n",
    "        # split text into words\n",
    "        wordList = self.formatText.split(' ')\n",
    "        \n",
    "        # Create dictionary\n",
    "        freqMap = {}\n",
    "        for word in set(wordList): # use set to remove duplicates in list\n",
    "            freqMap[word] = wordList.count(word)\n",
    "        \n",
    "        return freqMap\n",
    "    \n",
    "    # displays freq of the word it takes input\n",
    "    def freqOf(self,word):\n",
    "        # get frequency map\n",
    "        freqDict = self.freqAll()\n",
    "        \n",
    "        word=word.lower()\n",
    "        \n",
    "        if word in freqDict:\n",
    "            return freqDict[word]\n",
    "        else:\n",
    "            return 0\n",
    "    \n",
    "    #displays basic info about the text string\n",
    "    def info(self):\n",
    "        \n",
    "        wordList = self.formatText.split(' ')\n",
    "        wordCount=len(wordList)\n",
    "        charCount=0\n",
    "        \n",
    "        for cc in wordList:\n",
    "            charCount=charCount+len(cc)\n",
    "        \n",
    "        avgWordLen=charCount/wordCount\n",
    "        \n",
    "        freqDict=self.freqAll()\n",
    "        mostComWord_num=max(freqDict.values())\n",
    "        mostComWord=[]\n",
    "        for key, value in freqDict.items():\n",
    "            if value == mostComWord_num:\n",
    "                mostComWord.append(key)\n",
    "        \n",
    "        return print(\"Word Count=\",wordCount,\"\\nCharacter Count=\",charCount,\"\\nAverage Word Length=\",avgWordLen,\"\\nMost Common Words=\",mostComWord)"
   ]
  },
  {
   "cell_type": "code",
   "execution_count": 116,
   "id": "454902ee",
   "metadata": {},
   "outputs": [],
   "source": [
    "#Define the text string\n",
    "text1=\"Natural language processing (NLP) is a field of artificial intelligence that focuses on the interaction between computers and humans through natural language. The ultimate objective of NLP is to read, decipher, understand, and make sense of the human languages in a valuable way! NLP involves several challenges like natural language understanding, natural language generation, and machine learning.\"\n",
    "#text1=\"Hey my name is hashir\""
   ]
  },
  {
   "cell_type": "code",
   "execution_count": 117,
   "id": "d2397ccf",
   "metadata": {},
   "outputs": [],
   "source": [
    "#Create an object of class TextAnalyzer\n",
    "Text1=TextAnalyzer(text1)"
   ]
  },
  {
   "cell_type": "code",
   "execution_count": 118,
   "id": "4f15aaba",
   "metadata": {},
   "outputs": [
    {
     "data": {
      "text/plain": [
       "{'decipher': 1,\n",
       " 'human': 1,\n",
       " 'languages': 1,\n",
       " 'between': 1,\n",
       " 'focuses': 1,\n",
       " 'understand': 1,\n",
       " 'humans': 1,\n",
       " 'is': 2,\n",
       " 'to': 1,\n",
       " 'processing': 1,\n",
       " 'natural': 4,\n",
       " 'read': 1,\n",
       " 'in': 1,\n",
       " 'learning': 1,\n",
       " 'on': 1,\n",
       " 'computers': 1,\n",
       " 'through': 1,\n",
       " 'ultimate': 1,\n",
       " 'that': 1,\n",
       " 'and': 3,\n",
       " 'way': 1,\n",
       " 'generation': 1,\n",
       " 'challenges': 1,\n",
       " 'machine': 1,\n",
       " 'sense': 1,\n",
       " 'involves': 1,\n",
       " 'language': 4,\n",
       " 'intelligence': 1,\n",
       " 'interaction': 1,\n",
       " 'like': 1,\n",
       " 'nlp': 3,\n",
       " 'a': 2,\n",
       " 'of': 3,\n",
       " 'objective': 1,\n",
       " 'the': 3,\n",
       " 'valuable': 1,\n",
       " 'artificial': 1,\n",
       " 'field': 1,\n",
       " 'understanding': 1,\n",
       " 'several': 1,\n",
       " 'make': 1}"
      ]
     },
     "execution_count": 118,
     "metadata": {},
     "output_type": "execute_result"
    }
   ],
   "source": [
    "Text1.freqAll()"
   ]
  },
  {
   "cell_type": "code",
   "execution_count": 119,
   "id": "c0a1e995",
   "metadata": {},
   "outputs": [
    {
     "data": {
      "text/plain": [
       "4"
      ]
     },
     "execution_count": 119,
     "metadata": {},
     "output_type": "execute_result"
    }
   ],
   "source": [
    "Text1.freqOf(\"Language\")"
   ]
  },
  {
   "cell_type": "code",
   "execution_count": 120,
   "id": "1fc8b16c",
   "metadata": {},
   "outputs": [
    {
     "name": "stdout",
     "output_type": "stream",
     "text": [
      "Word Count= 57 \n",
      "Character Count= 333 \n",
      "Average Word Length= 5.842105263157895 \n",
      "Most Common Words= ['natural', 'language']\n"
     ]
    }
   ],
   "source": [
    "Text1.info()"
   ]
  },
  {
   "cell_type": "markdown",
   "id": "b42c3661",
   "metadata": {},
   "source": [
    "## Author\n",
    "_Hashir Soomro_"
   ]
  }
 ],
 "metadata": {
  "kernelspec": {
   "display_name": "Python 3 (ipykernel)",
   "language": "python",
   "name": "python3"
  },
  "language_info": {
   "codemirror_mode": {
    "name": "ipython",
    "version": 3
   },
   "file_extension": ".py",
   "mimetype": "text/x-python",
   "name": "python",
   "nbconvert_exporter": "python",
   "pygments_lexer": "ipython3",
   "version": "3.11.5"
  }
 },
 "nbformat": 4,
 "nbformat_minor": 5
}
