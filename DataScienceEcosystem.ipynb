{
 "cells": [
  {
   "cell_type": "markdown",
   "id": "9e6a741a",
   "metadata": {},
   "source": [
    "<center>\n",
    "    <img src=\"https://cf-courses-data.s3.us.cloud-object-storage.appdomain.cloud/IBMDeveloperSkillsNetwork-DS0105EN-SkillsNetwork/labs/Module2/images/SN_web_lightmode.png\" width=\"300\" alt=\"cognitiveclass.ai logo\">\n",
    "</center>\n"
   ]
  },
  {
   "cell_type": "markdown",
   "id": "bac67cfe",
   "metadata": {},
   "source": [
    "#### Add your code below following the instructions given in the course"
   ]
  },
  {
   "cell_type": "markdown",
   "id": "020b0b7e",
   "metadata": {},
   "source": [
    "# Data Science Tools and Ecosystem"
   ]
  },
  {
   "cell_type": "markdown",
   "id": "1bd90cee",
   "metadata": {},
   "source": [
    "In this notebook, Data Science Tools and Ecosystem are summarized."
   ]
  },
  {
   "cell_type": "markdown",
   "id": "df6c9c60",
   "metadata": {},
   "source": [
    "Some of the popular languages that Data Scientists use are:\n",
    "1. Python\n",
    "2. R\n",
    "3. Java\n",
    "4. Scala\n",
    "5. Julia\n",
    "6. C++"
   ]
  },
  {
   "cell_type": "markdown",
   "id": "9e6f958c",
   "metadata": {},
   "source": [
    "Some of the commonly used libraries used by Data Scientists include:\n",
    "1. Pandas\n",
    "2. Numpy\n",
    "3. Scikit-Learn\n",
    "4. MatplotLib\n",
    "5. Seaborn\n",
    "6. Keras\n",
    "7. Tensorflow\n",
    "8. Pytorch"
   ]
  },
  {
   "cell_type": "markdown",
   "id": "cea3fba7",
   "metadata": {},
   "source": [
    "----------------------------\n",
    "| DataScienceTools |\n",
    "----------------------------\n",
    "|Spyder|\n",
    "|     Jupyter     |\n",
    "|     RStudio     |"
   ]
  },
  {
   "cell_type": "markdown",
   "id": "0a3dea45",
   "metadata": {},
   "source": [
    "### Below are a few examples of evaluating arithmetic expressions in Python"
   ]
  },
  {
   "cell_type": "code",
   "execution_count": 2,
   "id": "e4174204",
   "metadata": {},
   "outputs": [
    {
     "data": {
      "text/plain": [
       "17"
      ]
     },
     "execution_count": 2,
     "metadata": {},
     "output_type": "execute_result"
    }
   ],
   "source": [
    "# This a simple arithmetic expression to mutiply then add integers\n",
    "(3*4)+5"
   ]
  },
  {
   "cell_type": "code",
   "execution_count": 8,
   "id": "56e68ce4",
   "metadata": {},
   "outputs": [
    {
     "name": "stdout",
     "output_type": "stream",
     "text": [
      "3.3333333333333335 hours\n"
     ]
    }
   ],
   "source": [
    "# This will convert 200 minutes to hours by diving by 60\n",
    "min_given=200\n",
    "min_in_hour=60\n",
    "hours=min_given/min_in_hour\n",
    "print(hours,\"hours\")"
   ]
  },
  {
   "cell_type": "markdown",
   "id": "6a1263d8",
   "metadata": {},
   "source": [
    "**Objectives:**\n",
    "- List popular languages for Data Science.\n",
    "- List commonly used libraries by Data Scientists.\n",
    "- Make a table for open-source Data Science Tools such as IDEs."
   ]
  },
  {
   "cell_type": "markdown",
   "id": "9f1a8d9f",
   "metadata": {},
   "source": [
    "## Author\n",
    "Hashir Soomro"
   ]
  },
  {
   "cell_type": "code",
   "execution_count": null,
   "id": "73896f46",
   "metadata": {},
   "outputs": [],
   "source": []
  }
 ],
 "metadata": {
  "kernelspec": {
   "display_name": "Python 3 (ipykernel)",
   "language": "python",
   "name": "python3"
  },
  "language_info": {
   "codemirror_mode": {
    "name": "ipython",
    "version": 3
   },
   "file_extension": ".py",
   "mimetype": "text/x-python",
   "name": "python",
   "nbconvert_exporter": "python",
   "pygments_lexer": "ipython3",
   "version": "3.11.5"
  }
 },
 "nbformat": 4,
 "nbformat_minor": 5
}
